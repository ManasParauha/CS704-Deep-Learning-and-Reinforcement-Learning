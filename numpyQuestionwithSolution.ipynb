{
  "nbformat": 4,
  "nbformat_minor": 0,
  "metadata": {
    "colab": {
      "provenance": []
    },
    "kernelspec": {
      "name": "python3",
      "display_name": "Python 3"
    },
    "language_info": {
      "name": "python"
    }
  },
  "cells": [
    {
      "cell_type": "code",
      "execution_count": 54,
      "metadata": {
        "id": "iI2qX5t28ykw"
      },
      "outputs": [],
      "source": [
        "  #importing the numpy library\n",
        "import numpy as np"
      ]
    },
    {
      "cell_type": "code",
      "source": [
        "#Create an array with 10 equally spaced numbers between 0 and 1.\n",
        "\n",
        "array = np.linspace(0, 1, 10)\n",
        "\n",
        "print(array)"
      ],
      "metadata": {
        "id": "a_3serFvBR1O",
        "colab": {
          "base_uri": "https://localhost:8080/"
        },
        "outputId": "3c0d5f08-d1d5-4926-c825-d22fab49a219"
      },
      "execution_count": 55,
      "outputs": [
        {
          "output_type": "stream",
          "name": "stdout",
          "text": [
            "[0.         0.11111111 0.22222222 0.33333333 0.44444444 0.55555556\n",
            " 0.66666667 0.77777778 0.88888889 1.        ]\n"
          ]
        }
      ]
    },
    {
      "cell_type": "code",
      "source": [
        "#Create a 1D array of 20 random integers between 1 and 100.\n",
        "\n",
        "array = np.random.randint(1, 101, 20)\n",
        "\n",
        "print(array)"
      ],
      "metadata": {
        "colab": {
          "base_uri": "https://localhost:8080/"
        },
        "id": "7JzBTyedQRCY",
        "outputId": "928d0e18-5d52-4a7d-c937-cfe1a46533cf"
      },
      "execution_count": 56,
      "outputs": [
        {
          "output_type": "stream",
          "name": "stdout",
          "text": [
            "[91 13 25 36 67 90 79 84 83 14 20  4 68 46 76 88 93 44 94 58]\n"
          ]
        }
      ]
    },
    {
      "cell_type": "code",
      "source": [
        "#Create a 2D array with the shape (4, 4) filled with the value 7.\n",
        "\n",
        "array_2d = np.full((4, 4), 7)\n",
        "\n",
        "print(array_2d)"
      ],
      "metadata": {
        "colab": {
          "base_uri": "https://localhost:8080/"
        },
        "id": "WryOiKFDQ4Af",
        "outputId": "b36290b4-f443-4b03-8b1b-e2c44d6acbcd"
      },
      "execution_count": 57,
      "outputs": [
        {
          "output_type": "stream",
          "name": "stdout",
          "text": [
            "[[7 7 7 7]\n",
            " [7 7 7 7]\n",
            " [7 7 7 7]\n",
            " [7 7 7 7]]\n"
          ]
        }
      ]
    },
    {
      "cell_type": "code",
      "source": [
        "#Create a 1D array of 10 elements with the same value, 3.14.\n",
        "\n",
        "array = np.full(10, 3.14)\n",
        "\n",
        "print(array)"
      ],
      "metadata": {
        "colab": {
          "base_uri": "https://localhost:8080/"
        },
        "id": "auF8RY8ZRJ8m",
        "outputId": "581a0dc3-3d10-4623-e623-255c189efc99"
      },
      "execution_count": 58,
      "outputs": [
        {
          "output_type": "stream",
          "name": "stdout",
          "text": [
            "[3.14 3.14 3.14 3.14 3.14 3.14 3.14 3.14 3.14 3.14]\n"
          ]
        }
      ]
    },
    {
      "cell_type": "code",
      "source": [
        "#Create a 2D array with the shape (3, 3) with values ranging from 1 to 9.\n",
        "\n",
        "# Create a 1D array with values ranging from 1 to 9\n",
        "array_1d = np.arange(1, 10)\n",
        "\n",
        "# Reshape the 1D array into a 2D array with shape (3, 3)\n",
        "array_2d = array_1d.reshape(3, 3)\n",
        "\n",
        "print(array_2d)"
      ],
      "metadata": {
        "colab": {
          "base_uri": "https://localhost:8080/"
        },
        "id": "bkw2gD1lRT7F",
        "outputId": "2a35b590-d427-43de-a529-ff5c2956bdb4"
      },
      "execution_count": 59,
      "outputs": [
        {
          "output_type": "stream",
          "name": "stdout",
          "text": [
            "[[1 2 3]\n",
            " [4 5 6]\n",
            " [7 8 9]]\n"
          ]
        }
      ]
    },
    {
      "cell_type": "code",
      "source": [
        "#Create two arrays: a = [1, 3, 5, 7, 9] and b = [2, 4, 6, 8, 10]. Perform element-wise subtraction.\n",
        "\n",
        "import numpy as np\n",
        "\n",
        "a = np.array([1, 3, 5, 7, 9])\n",
        "b = np.array([2, 4, 6, 8, 10])\n",
        "\n",
        "subtraction = a - b\n",
        "\n",
        "print(subtraction)\n",
        "\n"
      ],
      "metadata": {
        "colab": {
          "base_uri": "https://localhost:8080/"
        },
        "id": "8gnWHlWTR03o",
        "outputId": "b29d6f06-073a-4e89-8665-381923a5f000"
      },
      "execution_count": 60,
      "outputs": [
        {
          "output_type": "stream",
          "name": "stdout",
          "text": [
            "[-1 -1 -1 -1 -1]\n"
          ]
        }
      ]
    },
    {
      "cell_type": "code",
      "source": [
        "#Multiply array a by 3: a = [2, 4, 6, 8].\n",
        "\n",
        "a = np.array([2, 4, 6, 8])\n",
        "\n",
        "result = a * 3\n",
        "\n",
        "print(\"Original array a:\", a)\n",
        "print(\"Result after multiplying by 3:\", result)"
      ],
      "metadata": {
        "colab": {
          "base_uri": "https://localhost:8080/"
        },
        "id": "Dpp2ux_9SWZ3",
        "outputId": "10285c48-3054-432d-e11a-b1108364d378"
      },
      "execution_count": 61,
      "outputs": [
        {
          "output_type": "stream",
          "name": "stdout",
          "text": [
            "Original array a: [2 4 6 8]\n",
            "Result after multiplying by 3: [ 6 12 18 24]\n"
          ]
        }
      ]
    },
    {
      "cell_type": "code",
      "source": [
        "#Divide array a by 2: a = [10, 20, 30, 40].\n",
        "\n",
        "a = np.array([10, 20, 30, 40])\n",
        "\n",
        "\n",
        "result = a / 2\n",
        "\n",
        "print(\"Original array a:\", a)\n",
        "print(\"Result after dividing by 2:\", result)"
      ],
      "metadata": {
        "colab": {
          "base_uri": "https://localhost:8080/"
        },
        "id": "JnIw4SgCS0Pk",
        "outputId": "7ce5ae29-57fa-4bfe-cbe1-05323bd7c62b"
      },
      "execution_count": 62,
      "outputs": [
        {
          "output_type": "stream",
          "name": "stdout",
          "text": [
            "Original array a: [10 20 30 40]\n",
            "Result after dividing by 2: [ 5. 10. 15. 20.]\n"
          ]
        }
      ]
    },
    {
      "cell_type": "code",
      "source": [
        "#Find the element-wise modulus of two arrays: a = [5, 10, 15], b = [2, 3, 4].\n",
        "\n",
        "a = np.array([5, 10, 15])\n",
        "b = np.array([2, 3, 4])\n",
        "\n",
        "result = np.remainder(a, b)\n",
        "\n",
        "print(\"Array a:\", a)\n",
        "print(\"Array b:\", b)\n",
        "print(\"Element-wise modulus:\", result)"
      ],
      "metadata": {
        "colab": {
          "base_uri": "https://localhost:8080/"
        },
        "id": "vyay4p0yTEXa",
        "outputId": "5da94080-2211-4338-df45-009a73dde776"
      },
      "execution_count": 63,
      "outputs": [
        {
          "output_type": "stream",
          "name": "stdout",
          "text": [
            "Array a: [ 5 10 15]\n",
            "Array b: [2 3 4]\n",
            "Element-wise modulus: [1 1 3]\n"
          ]
        }
      ]
    },
    {
      "cell_type": "code",
      "source": [
        "#Create two arrays: a = [1, 2, 3], b = [4, 5, 6]. Compute the dot product.\n",
        "\n",
        "a = np.array([1, 2, 3])\n",
        "b = np.array([4, 5, 6])\n",
        "\n",
        "dot_product = np.dot(a, b)\n",
        "\n",
        "print(\"Array a:\", a)\n",
        "print(\"Array b:\", b)\n",
        "print(\"Dot product:\", dot_product)"
      ],
      "metadata": {
        "colab": {
          "base_uri": "https://localhost:8080/"
        },
        "id": "1_Bp4L2JTU5W",
        "outputId": "07353e79-6b3c-49c0-ba9b-2c744d2b3dff"
      },
      "execution_count": 64,
      "outputs": [
        {
          "output_type": "stream",
          "name": "stdout",
          "text": [
            "Array a: [1 2 3]\n",
            "Array b: [4 5 6]\n",
            "Dot product: 32\n"
          ]
        }
      ]
    },
    {
      "cell_type": "code",
      "source": [
        "#Create two matrices: a = [[2, 3], [4, 5]] and b = [[1, 0], [0, 1]]. Perform matrix multiplication.\n",
        "\n",
        "a = np.array([[2, 3], [4, 5]])\n",
        "b = np.array([[1, 0], [0, 1]])\n",
        "\n",
        "result = np.matmul(a, b)\n",
        "\n",
        "\n",
        "print(\"Matrix a:\\n\", a)\n",
        "print(\"Matrix b:\\n\", b)\n",
        "print(\"Result of matrix multiplication:\\n\", result)"
      ],
      "metadata": {
        "colab": {
          "base_uri": "https://localhost:8080/"
        },
        "id": "yV6-eoH8Tizf",
        "outputId": "38d9a85b-9c40-44fa-9594-e4ed84c6719e"
      },
      "execution_count": 65,
      "outputs": [
        {
          "output_type": "stream",
          "name": "stdout",
          "text": [
            "Matrix a:\n",
            " [[2 3]\n",
            " [4 5]]\n",
            "Matrix b:\n",
            " [[1 0]\n",
            " [0 1]]\n",
            "Result of matrix multiplication:\n",
            " [[2 3]\n",
            " [4 5]]\n"
          ]
        }
      ]
    },
    {
      "cell_type": "code",
      "source": [
        "#Multiply a 3x3 matrix with a 3x1 vector.\n",
        "\n",
        "matrix = np.array([[1, 2, 3],\n",
        "                   [4, 5, 6],\n",
        "                   [7, 8, 9]])\n",
        "\n",
        "vector = np.array([1, 2, 3])\n",
        "\n",
        "result = np.matmul(matrix, vector)\n",
        "\n",
        "print(\"Matrix:\\n\", matrix)\n",
        "print(\"Vector:\\n\", vector)\n",
        "print(\"Result of matrix-vector multiplication:\\n\", result)"
      ],
      "metadata": {
        "colab": {
          "base_uri": "https://localhost:8080/"
        },
        "id": "J6qukMEmUCL3",
        "outputId": "592fe3d1-8154-4c90-b89f-187d2cabd29a"
      },
      "execution_count": 66,
      "outputs": [
        {
          "output_type": "stream",
          "name": "stdout",
          "text": [
            "Matrix:\n",
            " [[1 2 3]\n",
            " [4 5 6]\n",
            " [7 8 9]]\n",
            "Vector:\n",
            " [1 2 3]\n",
            "Result of matrix-vector multiplication:\n",
            " [14 32 50]\n"
          ]
        }
      ]
    },
    {
      "cell_type": "code",
      "source": [
        "#Create a 4x4 identity matrix and multiply it by a 4x4 matrix filled with random integers.\n",
        "\n",
        "\n",
        "\n",
        "# Create a 4x4 identity matrix\n",
        "identity_matrix = np.eye(4)\n",
        "\n",
        "# Create a 4x4 matrix with random integers (between 0 and 9 for example)\n",
        "random_matrix = np.random.randint(0, 10, size=(4, 4))\n",
        "\n",
        "# Perform matrix multiplication\n",
        "result = np.matmul(identity_matrix, random_matrix)\n",
        "\n",
        "print(\"Identity Matrix:\\n\", identity_matrix)\n",
        "print(\"\\nRandom Matrix:\\n\", random_matrix)\n",
        "print(\"\\nResult of matrix multiplication:\\n\", result)\n"
      ],
      "metadata": {
        "colab": {
          "base_uri": "https://localhost:8080/"
        },
        "id": "npAOTWV-URhF",
        "outputId": "274628b8-bbcc-453d-c639-1a63dd25587c"
      },
      "execution_count": 67,
      "outputs": [
        {
          "output_type": "stream",
          "name": "stdout",
          "text": [
            "Identity Matrix:\n",
            " [[1. 0. 0. 0.]\n",
            " [0. 1. 0. 0.]\n",
            " [0. 0. 1. 0.]\n",
            " [0. 0. 0. 1.]]\n",
            "\n",
            "Random Matrix:\n",
            " [[9 6 9 0]\n",
            " [8 5 5 5]\n",
            " [2 0 9 6]\n",
            " [5 1 4 2]]\n",
            "\n",
            "Result of matrix multiplication:\n",
            " [[9. 6. 9. 0.]\n",
            " [8. 5. 5. 5.]\n",
            " [2. 0. 9. 6.]\n",
            " [5. 1. 4. 2.]]\n"
          ]
        }
      ]
    },
    {
      "cell_type": "code",
      "source": [
        "#Perform matrix multiplication on two 3x3 matrices: a = [[1, 2, 3], [4, 5, 6], [7, 8, 9]] and b = [[9, 8, 7], [6, 5, 4], [3, 2, 1]].\n",
        "\n",
        "a = np.array([[1, 2, 3],\n",
        "              [4, 5, 6],\n",
        "              [7, 8, 9]])\n",
        "\n",
        "b = np.array([[9, 8, 7],\n",
        "              [6, 5, 4],\n",
        "              [3, 2, 1]])\n",
        "\n",
        "result = np.matmul(a, b)\n",
        "\n",
        "print(\"Matrix a:\\n\", a)\n",
        "print(\"\\nMatrix b:\\n\", b)\n",
        "print(\"\\nResult of matrix multiplication:\\n\", result)"
      ],
      "metadata": {
        "colab": {
          "base_uri": "https://localhost:8080/"
        },
        "id": "l4mBV08zUnUT",
        "outputId": "3c79516e-d51c-4cc0-d0b8-4c67618dae56"
      },
      "execution_count": 68,
      "outputs": [
        {
          "output_type": "stream",
          "name": "stdout",
          "text": [
            "Matrix a:\n",
            " [[1 2 3]\n",
            " [4 5 6]\n",
            " [7 8 9]]\n",
            "\n",
            "Matrix b:\n",
            " [[9 8 7]\n",
            " [6 5 4]\n",
            " [3 2 1]]\n",
            "\n",
            "Result of matrix multiplication:\n",
            " [[ 30  24  18]\n",
            " [ 84  69  54]\n",
            " [138 114  90]]\n"
          ]
        }
      ]
    },
    {
      "cell_type": "code",
      "source": [
        "#Create a 2x3 matrix and a 3x2 matrix. Perform matrix multiplication.\n",
        "\n",
        "matrix_a = np.array([[1, 2, 3],\n",
        "                     [4, 5, 6]])\n",
        "\n",
        "matrix_b = np.array([[7, 8],\n",
        "                     [9, 10],\n",
        "                     [11, 12]])\n",
        "\n",
        "result = np.matmul(matrix_a, matrix_b)\n",
        "\n",
        "print(\"Matrix a:\\n\", matrix_a)\n",
        "print(\"\\nMatrix b:\\n\", matrix_b)\n",
        "print(\"\\nResult of matrix multiplication:\\n\", result)"
      ],
      "metadata": {
        "colab": {
          "base_uri": "https://localhost:8080/"
        },
        "id": "i9tmbBdKU9p9",
        "outputId": "3bb93f6e-f1fc-4be1-c32c-7af79513e826"
      },
      "execution_count": 69,
      "outputs": [
        {
          "output_type": "stream",
          "name": "stdout",
          "text": [
            "Matrix a:\n",
            " [[1 2 3]\n",
            " [4 5 6]]\n",
            "\n",
            "Matrix b:\n",
            " [[ 7  8]\n",
            " [ 9 10]\n",
            " [11 12]]\n",
            "\n",
            "Result of matrix multiplication:\n",
            " [[ 58  64]\n",
            " [139 154]]\n"
          ]
        }
      ]
    },
    {
      "cell_type": "code",
      "source": [
        "#Create a 1D array: array = [10, 20, 30]. Subtract a scalar value, 5, using broadcasting.\n",
        "\n",
        "array = np.array([10, 20, 30])\n",
        "\n",
        "\n",
        "result = array - 5\n",
        "\n",
        "print(result)"
      ],
      "metadata": {
        "id": "C7PIEp9EVJBr",
        "colab": {
          "base_uri": "https://localhost:8080/"
        },
        "outputId": "0a4472d8-1c7f-4dd3-8f3b-b0644e2236f2"
      },
      "execution_count": 70,
      "outputs": [
        {
          "output_type": "stream",
          "name": "stdout",
          "text": [
            "[ 5 15 25]\n"
          ]
        }
      ]
    },
    {
      "cell_type": "code",
      "source": [
        "#Create a 3x3 array and a 3x1 array. Add them using broadcasting.\n",
        "\n",
        "array_3x3 = np.array([[1, 2, 3],\n",
        "                      [4, 5, 6],\n",
        "                      [7, 8, 9]])\n",
        "\n",
        "\n",
        "array_3x1 = np.array([[1],\n",
        "                      [2],\n",
        "                      [3]])\n",
        "\n",
        "\n",
        "result = array_3x3 + array_3x1\n",
        "\n",
        "print(result)"
      ],
      "metadata": {
        "colab": {
          "base_uri": "https://localhost:8080/"
        },
        "id": "THc1kFZ0xFpt",
        "outputId": "0fe14e5a-d516-4c8a-f66f-0b037df9e637"
      },
      "execution_count": 71,
      "outputs": [
        {
          "output_type": "stream",
          "name": "stdout",
          "text": [
            "[[ 2  3  4]\n",
            " [ 6  7  8]\n",
            " [10 11 12]]\n"
          ]
        }
      ]
    },
    {
      "cell_type": "code",
      "source": [
        "#Divide a 4x4 array by a scalar value, 2, using broadcasting.\n",
        "\n",
        "array_4x4 = np.array([[8, 16, 24, 32],\n",
        "                      [40, 48, 56, 64],\n",
        "                      [72, 80, 88, 96],\n",
        "                      [104, 112, 120, 128]])\n",
        "\n",
        "\n",
        "result = array_4x4 / 2\n",
        "\n",
        "print(result)"
      ],
      "metadata": {
        "colab": {
          "base_uri": "https://localhost:8080/"
        },
        "id": "5BzHiPPDxOYv",
        "outputId": "7fe6b2be-3799-4bfe-d18e-d4237c9c3d62"
      },
      "execution_count": 72,
      "outputs": [
        {
          "output_type": "stream",
          "name": "stdout",
          "text": [
            "[[ 4.  8. 12. 16.]\n",
            " [20. 24. 28. 32.]\n",
            " [36. 40. 44. 48.]\n",
            " [52. 56. 60. 64.]]\n"
          ]
        }
      ]
    },
    {
      "cell_type": "code",
      "source": [
        "#Create a 3x3 array and add 3 to each element using broadcasting.\n",
        "\n",
        "array_3x3 = np.array([[1, 2, 3],\n",
        "                      [4, 5, 6],\n",
        "                      [7, 8, 9]])\n",
        "\n",
        "result = array_3x3 + 3\n",
        "\n",
        "print(result)"
      ],
      "metadata": {
        "colab": {
          "base_uri": "https://localhost:8080/"
        },
        "id": "Ixy0wOpVxaIm",
        "outputId": "b8a9ca66-2159-436e-910c-94856afd9a66"
      },
      "execution_count": 73,
      "outputs": [
        {
          "output_type": "stream",
          "name": "stdout",
          "text": [
            "[[ 4  5  6]\n",
            " [ 7  8  9]\n",
            " [10 11 12]]\n"
          ]
        }
      ]
    },
    {
      "cell_type": "code",
      "source": [
        "#Multiply a 1D array of shape (5,) by a 2D array of shape (5, 5) using broadcasting.\n",
        "\n",
        "array_1d = np.array([1, 2, 3, 4, 5])\n",
        "\n",
        "\n",
        "array_2d = np.array([[1, 2, 3, 4, 5],\n",
        "                     [6, 7, 8, 9, 10],\n",
        "                     [11, 12, 13, 14, 15],\n",
        "                     [16, 17, 18, 19, 20],\n",
        "                     [21, 22, 23, 24, 25]])\n",
        "\n",
        "\n",
        "result = array_2d * array_1d\n",
        "\n",
        "print(result)"
      ],
      "metadata": {
        "colab": {
          "base_uri": "https://localhost:8080/"
        },
        "id": "n6oQqEGLxm-l",
        "outputId": "ba674ce2-f5b1-43e3-d858-29f8c43ce9d2"
      },
      "execution_count": 74,
      "outputs": [
        {
          "output_type": "stream",
          "name": "stdout",
          "text": [
            "[[  1   4   9  16  25]\n",
            " [  6  14  24  36  50]\n",
            " [ 11  24  39  56  75]\n",
            " [ 16  34  54  76 100]\n",
            " [ 21  44  69  96 125]]\n"
          ]
        }
      ]
    },
    {
      "cell_type": "code",
      "source": [
        "#Calculate the median of the array: data = [1, 2, 3, 4, 5, 6, 7, 8, 9, 10].\n",
        "\n",
        "data = np.array([1, 2, 3, 4, 5, 6, 7, 8, 9, 10])\n",
        "\n",
        "\n",
        "median_value = np.median(data)\n",
        "\n",
        "print(\"Median of the array:\", median_value)"
      ],
      "metadata": {
        "colab": {
          "base_uri": "https://localhost:8080/"
        },
        "id": "T3mQp1UYx16J",
        "outputId": "134b79cb-3f05-49f0-a8c2-a04cf6982555"
      },
      "execution_count": 75,
      "outputs": [
        {
          "output_type": "stream",
          "name": "stdout",
          "text": [
            "Median of the array: 5.5\n"
          ]
        }
      ]
    },
    {
      "cell_type": "code",
      "source": [
        "#Calculate the mode of the array: data = [1, 2, 2, 3, 4, 4, 4, 5, 6].\n",
        "\n",
        "\n",
        "\n",
        "# Create the data array\n",
        "data = np.array([1, 2, 2, 3, 4, 4, 4, 5, 6])\n",
        "\n",
        "# Calculate the mode using np.argmax\n",
        "# Find the most frequent value's index\n",
        "most_frequent_idx = np.argmax(np.bincount(data))\n",
        "\n",
        "# Get the mode value from the data array\n",
        "mode = data[most_frequent_idx]\n",
        "\n",
        "# Print the mode\n",
        "print(mode)\n"
      ],
      "metadata": {
        "colab": {
          "base_uri": "https://localhost:8080/"
        },
        "id": "soTHOVoyyDic",
        "outputId": "782a2cab-739b-40f7-8aa5-e521ab38d80b"
      },
      "execution_count": 76,
      "outputs": [
        {
          "output_type": "stream",
          "name": "stdout",
          "text": [
            "4\n"
          ]
        }
      ]
    },
    {
      "cell_type": "code",
      "source": [
        "#Calculate the range of the array: data = [10, 20, 30, 40, 50].\n",
        "\n",
        "data = np.array([10, 20, 30, 40, 50])\n",
        "\n",
        "# Calculate the range\n",
        "range_value = np.max(data) - np.min(data)\n",
        "\n",
        "print(\"Range of the array:\", range_value)"
      ],
      "metadata": {
        "colab": {
          "base_uri": "https://localhost:8080/"
        },
        "id": "xWuxc-USyNt6",
        "outputId": "e7bcf218-2962-4217-f1a4-c7bdc234c1d1"
      },
      "execution_count": 77,
      "outputs": [
        {
          "output_type": "stream",
          "name": "stdout",
          "text": [
            "Range of the array: 40\n"
          ]
        }
      ]
    },
    {
      "cell_type": "code",
      "source": [
        "#Calculate the 25th percentile of the array: data = [1, 2, 3, 4, 5, 6, 7, 8, 9, 10].\n",
        "\n",
        "data = np.array([1, 2, 3, 4, 5, 6, 7, 8, 9, 10])\n",
        "\n",
        "# Calculate the 25th percentile\n",
        "percentile_25 = np.percentile(data, 25)\n",
        "\n",
        "print(\"25th percentile of the array:\", percentile_25)"
      ],
      "metadata": {
        "colab": {
          "base_uri": "https://localhost:8080/"
        },
        "id": "wC7937HSzYFY",
        "outputId": "40ec04ef-2efd-44cc-da0f-765f2263f064"
      },
      "execution_count": 78,
      "outputs": [
        {
          "output_type": "stream",
          "name": "stdout",
          "text": [
            "25th percentile of the array: 3.25\n"
          ]
        }
      ]
    },
    {
      "cell_type": "code",
      "source": [
        "#Calculate the correlation coefficient between two arrays: a = [1, 2, 3, 4, 5] and b = [2, 4, 6, 8, 10].\n",
        "\n",
        "a = np.array([1, 2, 3, 4, 5])\n",
        "b = np.array([2, 4, 6, 8, 10])\n",
        "\n",
        "\n",
        "correlation_matrix = np.corrcoef(a, b)\n",
        "correlation_coefficient = correlation_matrix[0, 1]\n",
        "\n",
        "print(\"Correlation coefficient between arrays a and b:\", correlation_coefficient)"
      ],
      "metadata": {
        "colab": {
          "base_uri": "https://localhost:8080/"
        },
        "id": "F8OaNff7zt3x",
        "outputId": "39717994-08c9-41ea-e6ee-d63a5a3121d0"
      },
      "execution_count": 79,
      "outputs": [
        {
          "output_type": "stream",
          "name": "stdout",
          "text": [
            "Correlation coefficient between arrays a and b: 0.9999999999999999\n"
          ]
        }
      ]
    },
    {
      "cell_type": "code",
      "source": [
        "#Reshape a 1D array of 12 elements to a 3x4 array.\n",
        "\n",
        "array_1d = np.arange(12)  # Example array: [0, 1, 2, 3, 4, 5, 6, 7, 8, 9, 10, 11]\n",
        "\n",
        "\n",
        "array_2d = array_1d.reshape(3, 4)\n",
        "\n",
        "print(\"3x4 array:\\n\", array_2d)"
      ],
      "metadata": {
        "colab": {
          "base_uri": "https://localhost:8080/"
        },
        "id": "6xwd_EU2z7SD",
        "outputId": "1e01b81b-57c8-4435-935d-241862701e32"
      },
      "execution_count": 80,
      "outputs": [
        {
          "output_type": "stream",
          "name": "stdout",
          "text": [
            "3x4 array:\n",
            " [[ 0  1  2  3]\n",
            " [ 4  5  6  7]\n",
            " [ 8  9 10 11]]\n"
          ]
        }
      ]
    },
    {
      "cell_type": "code",
      "source": [
        "#Reshape a 2D array of shape (6, 2) to (3, 4).\n",
        "\n",
        "\n",
        "array_2d_6x2 = np.arange(12).reshape(6, 2)  # Example array: [[0, 1], [2, 3], [4, 5], [6, 7], [8, 9], [10, 11]]\n",
        "\n",
        "# Reshape the 2D array to (3, 4)\n",
        "array_reshaped = array_2d_6x2.reshape(3, 4)\n",
        "\n",
        "print(\"Reshaped array (3x4):\\n\", array_reshaped)"
      ],
      "metadata": {
        "colab": {
          "base_uri": "https://localhost:8080/"
        },
        "id": "SkdP4WYQ0ZZ_",
        "outputId": "0582933c-d42c-4f0d-9fca-a83891afb2f4"
      },
      "execution_count": 81,
      "outputs": [
        {
          "output_type": "stream",
          "name": "stdout",
          "text": [
            "Reshaped array (3x4):\n",
            " [[ 0  1  2  3]\n",
            " [ 4  5  6  7]\n",
            " [ 8  9 10 11]]\n"
          ]
        }
      ]
    },
    {
      "cell_type": "code",
      "source": [
        "#Create a 4x4 array and flatten it.\n",
        "\n",
        "array_4x4 = np.arange(16).reshape(4, 4)  # Example array: [[0, 1, 2, 3], [4, 5, 6, 7], [8, 9, 10, 11], [12, 13, 14, 15]]\n",
        "\n",
        "flattened_array = array_4x4.flatten()\n",
        "\n",
        "print(\"Flattened array:\\n\", flattened_array)"
      ],
      "metadata": {
        "colab": {
          "base_uri": "https://localhost:8080/"
        },
        "id": "aHxMnBYm0kRk",
        "outputId": "c268fff2-c99e-4f84-8694-83361ec10207"
      },
      "execution_count": 82,
      "outputs": [
        {
          "output_type": "stream",
          "name": "stdout",
          "text": [
            "Flattened array:\n",
            " [ 0  1  2  3  4  5  6  7  8  9 10 11 12 13 14 15]\n"
          ]
        }
      ]
    },
    {
      "cell_type": "code",
      "source": [
        "#Reshape a 3D array of shape (2, 3, 4) to (4, 3, 2).\n",
        "\n",
        "array_3d = np.arange(24).reshape(2, 3, 4)  # Example array with shape (2, 3, 4)\n",
        "\n",
        "# Reshape the 3D array to (4, 3, 2)\n",
        "reshaped_array = array_3d.reshape(4, 3, 2)\n",
        "\n",
        "print(\"Reshaped array (4, 3, 2):\\n\", reshaped_array)\n"
      ],
      "metadata": {
        "colab": {
          "base_uri": "https://localhost:8080/"
        },
        "id": "-ZylZ9Si0sRr",
        "outputId": "6bccc094-0af8-4fbf-cdf0-de101636c407"
      },
      "execution_count": 83,
      "outputs": [
        {
          "output_type": "stream",
          "name": "stdout",
          "text": [
            "Reshaped array (4, 3, 2):\n",
            " [[[ 0  1]\n",
            "  [ 2  3]\n",
            "  [ 4  5]]\n",
            "\n",
            " [[ 6  7]\n",
            "  [ 8  9]\n",
            "  [10 11]]\n",
            "\n",
            " [[12 13]\n",
            "  [14 15]\n",
            "  [16 17]]\n",
            "\n",
            " [[18 19]\n",
            "  [20 21]\n",
            "  [22 23]]]\n"
          ]
        }
      ]
    },
    {
      "cell_type": "code",
      "source": [
        "#Reshape a 1D array to a 2D array with 1 row and many columns.\n",
        "\n",
        "array_1d = np.arange(10)  # Example array: [0, 1, 2, 3, 4, 5, 6, 7, 8, 9]\n",
        "\n",
        "\n",
        "array_2d = array_1d.reshape(1, -1)\n",
        "\n",
        "print(\"2D array with 1 row and many columns:\\n\", array_2d)"
      ],
      "metadata": {
        "colab": {
          "base_uri": "https://localhost:8080/"
        },
        "id": "u1cpzuIY07Bk",
        "outputId": "11326325-54b0-464c-dfa8-5f272a8afcf8"
      },
      "execution_count": 84,
      "outputs": [
        {
          "output_type": "stream",
          "name": "stdout",
          "text": [
            "2D array with 1 row and many columns:\n",
            " [[0 1 2 3 4 5 6 7 8 9]]\n"
          ]
        }
      ]
    },
    {
      "cell_type": "code",
      "source": [
        "#Create two arrays: a = [1, 3, 5] and b = [2, 4, 6]. Perform element-wise division.\n",
        "\n",
        "a = np.array([1, 3, 5])\n",
        "b = np.array([2, 4, 6])\n",
        "\n",
        "# Perform element-wise division\n",
        "result = a / b\n",
        "\n",
        "print(\"Element-wise division result:\\n\", result)"
      ],
      "metadata": {
        "colab": {
          "base_uri": "https://localhost:8080/"
        },
        "id": "0KqP9o-G1J37",
        "outputId": "d26c193d-672a-4c61-9255-8ad7e95ecdf0"
      },
      "execution_count": 85,
      "outputs": [
        {
          "output_type": "stream",
          "name": "stdout",
          "text": [
            "Element-wise division result:\n",
            " [0.5        0.75       0.83333333]\n"
          ]
        }
      ]
    },
    {
      "cell_type": "code",
      "source": [
        "#Create two arrays: a = [2, 4, 6] and b = [1, 3, 5]. Perform element-wise modulus.\n",
        "\n",
        "a = np.array([2, 4, 6])\n",
        "b = np.array([1, 3, 5])\n",
        "\n",
        "# Perform element-wise modulus\n",
        "result = a % b\n",
        "\n",
        "print(\"Element-wise modulus result:\\n\", result)"
      ],
      "metadata": {
        "colab": {
          "base_uri": "https://localhost:8080/"
        },
        "id": "exgK1t2K1p9y",
        "outputId": "540e18e4-af5a-4bd7-84f2-51ab9d3f6b9c"
      },
      "execution_count": 86,
      "outputs": [
        {
          "output_type": "stream",
          "name": "stdout",
          "text": [
            "Element-wise modulus result:\n",
            " [0 1 1]\n"
          ]
        }
      ]
    },
    {
      "cell_type": "code",
      "source": [
        "#Add 10 to each element in the array: a = [1, 2, 3, 4, 5].\n",
        "\n",
        "a = np.array([1, 2, 3, 4, 5])\n",
        "\n",
        "# Add 10 to each element\n",
        "result = a + 10\n",
        "\n",
        "print(\"Array after adding 10:\\n\", result)\n"
      ],
      "metadata": {
        "colab": {
          "base_uri": "https://localhost:8080/"
        },
        "id": "q4EYbo4R1w82",
        "outputId": "0e5c1796-e201-432e-aed6-30b866bfc0ed"
      },
      "execution_count": 87,
      "outputs": [
        {
          "output_type": "stream",
          "name": "stdout",
          "text": [
            "Array after adding 10:\n",
            " [11 12 13 14 15]\n"
          ]
        }
      ]
    },
    {
      "cell_type": "code",
      "source": [
        "#Subtract 5 from each element in the array: b = [10, 20, 30, 40, 50].\n",
        "\n",
        "b = np.array([10, 20, 30, 40, 50])\n",
        "\n",
        "# Subtract 5 from each element\n",
        "result = b - 5\n",
        "\n",
        "print(\"Array after subtracting 5:\\n\", result)\n"
      ],
      "metadata": {
        "colab": {
          "base_uri": "https://localhost:8080/"
        },
        "id": "oJBiIE-a148c",
        "outputId": "189b0479-58f4-4a92-947c-3bb145104e5d"
      },
      "execution_count": 88,
      "outputs": [
        {
          "output_type": "stream",
          "name": "stdout",
          "text": [
            "Array after subtracting 5:\n",
            " [ 5 15 25 35 45]\n"
          ]
        }
      ]
    },
    {
      "cell_type": "code",
      "source": [
        "#Square each element in the array: c = [1, 2, 3, 4, 5].\n",
        "\n",
        "c = np.array([1, 2, 3, 4, 5])\n",
        "\n",
        "# Square each element\n",
        "squared_result = c ** 2\n",
        "\n",
        "print(\"Array after squaring each element:\\n\", squared_result)\n"
      ],
      "metadata": {
        "id": "W3T3mCBn2Ao4",
        "outputId": "3eb674a6-b0a7-4693-9480-be0e1fba7a43",
        "colab": {
          "base_uri": "https://localhost:8080/"
        }
      },
      "execution_count": 89,
      "outputs": [
        {
          "output_type": "stream",
          "name": "stdout",
          "text": [
            "Array after squaring each element:\n",
            " [ 1  4  9 16 25]\n"
          ]
        }
      ]
    },
    {
      "cell_type": "code",
      "source": [
        "#Create a 3D array: array_3d = [[[1, 2, 3], [4, 5, 6]], [[7, 8, 9], [10, 11, 12]]]. Access the element at [1, 1, 1].\n",
        "\n",
        "array_3d = np.array([[[1, 2, 3], [4, 5, 6]],\n",
        "                     [[7, 8, 9], [10, 11, 12]]])\n",
        "\n",
        "element = array_3d[1, 1, 1]\n",
        "\n",
        "print(\"Element at [1, 1, 1]:\", element)"
      ],
      "metadata": {
        "id": "segKFI8q2F0O",
        "colab": {
          "base_uri": "https://localhost:8080/"
        },
        "outputId": "32240e50-dcc9-4f8c-8e2e-39ab0b732b86"
      },
      "execution_count": 90,
      "outputs": [
        {
          "output_type": "stream",
          "name": "stdout",
          "text": [
            "Element at [1, 1, 1]: 11\n"
          ]
        }
      ]
    },
    {
      "cell_type": "code",
      "source": [
        "#Slice the first layer of a 3D array: array_3d = [[[1, 2, 3], [4, 5, 6]], [[7, 8, 9], [10, 11, 12]]].\n",
        "\n",
        "array_3d = np.array([[[1, 2, 3], [4, 5, 6]],\n",
        "                     [[7, 8, 9], [10, 11, 12]]])\n",
        "\n",
        "first_layer = array_3d[0]\n",
        "\n",
        "print(\"First layer of the 3D array:\\n\", first_layer)\n"
      ],
      "metadata": {
        "colab": {
          "base_uri": "https://localhost:8080/"
        },
        "id": "yMZQ7nxX8Zzp",
        "outputId": "8814ad6b-8d41-4052-be8c-33a318b56575"
      },
      "execution_count": 91,
      "outputs": [
        {
          "output_type": "stream",
          "name": "stdout",
          "text": [
            "First layer of the 3D array:\n",
            " [[1 2 3]\n",
            " [4 5 6]]\n"
          ]
        }
      ]
    },
    {
      "cell_type": "code",
      "source": [
        "#Access all elements in the last row of the array: array_2d = [[10, 20, 30], [40, 50, 60], [70, 80, 90]].\n",
        "\n",
        "array_2d = np.array([[10, 20, 30], [40, 50, 60], [70, 80, 90]])\n",
        "\n",
        "last_row = array_2d[-1]\n",
        "\n",
        "print(\"Elements in the last row:\\n\", last_row)"
      ],
      "metadata": {
        "colab": {
          "base_uri": "https://localhost:8080/"
        },
        "id": "gtJyMKMa8qMl",
        "outputId": "b7bc8319-3198-4308-9e1f-d23ae62ea1ab"
      },
      "execution_count": 92,
      "outputs": [
        {
          "output_type": "stream",
          "name": "stdout",
          "text": [
            "Elements in the last row:\n",
            " [70 80 90]\n"
          ]
        }
      ]
    },
    {
      "cell_type": "code",
      "source": [
        "#Access all elements in the first column of the array: array_2d = [[10, 20, 30], [40, 50, 60], [70, 80, 90]].\n",
        "\n",
        "array_2d = np.array([[10, 20, 30], [40, 50, 60], [70, 80, 90]])\n",
        "\n",
        "first_column = array_2d[:, 0]\n",
        "\n",
        "print(\"Elements in the first column:\\n\", first_column)"
      ],
      "metadata": {
        "colab": {
          "base_uri": "https://localhost:8080/"
        },
        "id": "N5Ms5gxj87TH",
        "outputId": "985a7a57-f090-413e-9358-2aaecb2bab89"
      },
      "execution_count": 93,
      "outputs": [
        {
          "output_type": "stream",
          "name": "stdout",
          "text": [
            "Elements in the first column:\n",
            " [10 40 70]\n"
          ]
        }
      ]
    },
    {
      "cell_type": "code",
      "source": [
        "#Slice the last two rows and columns of the array: array_2d = [[10, 20, 30], [40, 50, 60], [70, 80, 90]].\n",
        "\n",
        "array_2d = np.array([[10, 20, 30], [40, 50, 60], [70, 80, 90]])\n",
        "\n",
        "sliced_array = array_2d[-2:, -2:]\n",
        "\n",
        "print(\"Last two rows and columns:\\n\", sliced_array)"
      ],
      "metadata": {
        "colab": {
          "base_uri": "https://localhost:8080/"
        },
        "id": "5aYHkpDM9HdB",
        "outputId": "7df3728e-f80b-48a5-8cc0-4379b9df031d"
      },
      "execution_count": 94,
      "outputs": [
        {
          "output_type": "stream",
          "name": "stdout",
          "text": [
            "Last two rows and columns:\n",
            " [[50 60]\n",
            " [80 90]]\n"
          ]
        }
      ]
    },
    {
      "cell_type": "code",
      "source": [
        "#Generate a random array of 20 elements with values between 0 and 1.\n",
        "\n",
        "random_array = np.random.rand(20)\n",
        "\n",
        "print(\"Random array of 20 elements with values between 0 and 1:\\n\", random_array)"
      ],
      "metadata": {
        "colab": {
          "base_uri": "https://localhost:8080/"
        },
        "id": "IA71ZXBr9VXb",
        "outputId": "ae49ec34-8d59-44e7-b80d-6a9320638431"
      },
      "execution_count": 95,
      "outputs": [
        {
          "output_type": "stream",
          "name": "stdout",
          "text": [
            "Random array of 20 elements with values between 0 and 1:\n",
            " [0.15145703 0.23271309 0.92489521 0.84514099 0.50119987 0.17336288\n",
            " 0.12425616 0.37868186 0.07349763 0.2181093  0.47013272 0.06181024\n",
            " 0.41565623 0.49839078 0.90493838 0.58644169 0.61994475 0.53438911\n",
            " 0.8465944  0.53747054]\n"
          ]
        }
      ]
    },
    {
      "cell_type": "code",
      "source": [
        "#Create a 4x4 array with random integers between 10 and 20.\n",
        "\n",
        "random_array = np.random.randint(10, 20, size=(4, 4))\n",
        "\n",
        "print(\"4x4 array with random integers between 10 and 20:\\n\", random_array)"
      ],
      "metadata": {
        "colab": {
          "base_uri": "https://localhost:8080/"
        },
        "id": "zxjgRvFL9eSa",
        "outputId": "ef387220-d755-426d-c767-b14fdcaabe85"
      },
      "execution_count": 96,
      "outputs": [
        {
          "output_type": "stream",
          "name": "stdout",
          "text": [
            "4x4 array with random integers between 10 and 20:\n",
            " [[12 18 15 11]\n",
            " [17 18 17 15]\n",
            " [15 13 18 11]\n",
            " [17 14 11 10]]\n"
          ]
        }
      ]
    },
    {
      "cell_type": "code",
      "source": [
        "#Create a 3x3 array with random floats between -1 and 1.\n",
        "\n",
        "\n",
        "random_array = np.random.uniform(-1, 1, size=(3, 3))\n",
        "\n",
        "print(\"3x3 array with random floats between -1 and 1:\\n\", random_array)"
      ],
      "metadata": {
        "colab": {
          "base_uri": "https://localhost:8080/"
        },
        "id": "Zuvdyn7z9oAI",
        "outputId": "b3a2bbac-a8b0-40de-e3d8-3d29389f0b80"
      },
      "execution_count": 97,
      "outputs": [
        {
          "output_type": "stream",
          "name": "stdout",
          "text": [
            "3x3 array with random floats between -1 and 1:\n",
            " [[ 0.43285078 -0.04361355 -0.03335225]\n",
            " [ 0.15420554 -0.34351885 -0.11012423]\n",
            " [ 0.62292423 -0.09735385  0.03814455]]\n"
          ]
        }
      ]
    },
    {
      "cell_type": "code",
      "source": [
        "#Generate an array of 15 random integers between 100 and 200.\n",
        "\n",
        "random_array = np.random.randint(100, 200, size=15)\n",
        "\n",
        "print(\"Array of 15 random integers between 100 and 200:\\n\", random_array)"
      ],
      "metadata": {
        "colab": {
          "base_uri": "https://localhost:8080/"
        },
        "id": "-5a0T-tg9x3w",
        "outputId": "3c8ca512-6b5e-4199-f57d-853ff16fae4b"
      },
      "execution_count": 98,
      "outputs": [
        {
          "output_type": "stream",
          "name": "stdout",
          "text": [
            "Array of 15 random integers between 100 and 200:\n",
            " [184 186 149 105 165 133 100 152 159 155 116 109 172 193 192]\n"
          ]
        }
      ]
    },
    {
      "cell_type": "code",
      "source": [
        "#5. Create a 5x5 array with random floats between 0 and 10.\n",
        "\n",
        "random_array = np.random.uniform(0, 10, size=(5, 5))\n",
        "\n",
        "print(\"5x5 array with random floats between 0 and 10:\\n\", random_array)"
      ],
      "metadata": {
        "colab": {
          "base_uri": "https://localhost:8080/"
        },
        "id": "URu1W6WZ98H8",
        "outputId": "7304086e-377f-497b-cef0-95e3ca53e3c4"
      },
      "execution_count": 99,
      "outputs": [
        {
          "output_type": "stream",
          "name": "stdout",
          "text": [
            "5x5 array with random floats between 0 and 10:\n",
            " [[1.65537865 4.80599702 6.73210845 9.98428824 9.13870749]\n",
            " [3.76665339 9.29480529 7.75652175 2.32214169 0.26716974]\n",
            " [1.04657725 0.77930088 7.48240004 8.09750276 0.41364391]\n",
            " [7.66314556 9.0921785  1.39160854 9.49569046 2.37786645]\n",
            " [8.18870302 1.29564508 4.18614398 6.92765728 7.41945098]]\n"
          ]
        }
      ]
    },
    {
      "cell_type": "code",
      "source": [
        "#Vertically stack two arrays: a = [[1, 2], [3, 4]] and b = [[5, 6], [7, 8]].\n",
        "\n",
        "a = np.array([[1, 2], [3, 4]])\n",
        "b = np.array([[5, 6], [7, 8]])\n",
        "\n",
        "stacked_array = np.vstack((a, b))\n",
        "\n",
        "print(\"Vertically stacked array:\\n\", stacked_array)"
      ],
      "metadata": {
        "colab": {
          "base_uri": "https://localhost:8080/"
        },
        "id": "-Q5qAbHZ-Hp3",
        "outputId": "1e196ff6-e75d-4b2e-f397-0cab3ac91bfe"
      },
      "execution_count": 100,
      "outputs": [
        {
          "output_type": "stream",
          "name": "stdout",
          "text": [
            "Vertically stacked array:\n",
            " [[1 2]\n",
            " [3 4]\n",
            " [5 6]\n",
            " [7 8]]\n"
          ]
        }
      ]
    },
    {
      "cell_type": "code",
      "source": [
        "#Horizontally stack two arrays: a = [[1, 2], [3, 4]] and b = [[5, 6], [7, 8]].\n",
        "\n",
        "a = np.array([[1, 2], [3, 4]])\n",
        "b = np.array([[5, 6], [7, 8]])\n",
        "\n",
        "stacked_array = np.hstack((a, b))\n",
        "\n",
        "print(\"Horizontally stacked array:\\n\", stacked_array)"
      ],
      "metadata": {
        "colab": {
          "base_uri": "https://localhost:8080/"
        },
        "id": "gbKgyJGo-QcC",
        "outputId": "1b9871f3-5dcb-4241-8ec7-e1087fb35012"
      },
      "execution_count": 101,
      "outputs": [
        {
          "output_type": "stream",
          "name": "stdout",
          "text": [
            "Horizontally stacked array:\n",
            " [[1 2 5 6]\n",
            " [3 4 7 8]]\n"
          ]
        }
      ]
    },
    {
      "cell_type": "code",
      "source": [
        "#Concatenate two 1D arrays: a = [1, 2, 3] and b = [4, 5, 6].\n",
        "\n",
        "a = np.array([1, 2, 3])\n",
        "b = np.array([4, 5, 6])\n",
        "\n",
        "concatenated_array = np.concatenate((a, b))\n",
        "\n",
        "print(\"Concatenated array:\\n\", concatenated_array)"
      ],
      "metadata": {
        "colab": {
          "base_uri": "https://localhost:8080/"
        },
        "id": "jn6pqxe9-arD",
        "outputId": "c652e404-9476-4c7a-9711-61e3e908f6db"
      },
      "execution_count": 102,
      "outputs": [
        {
          "output_type": "stream",
          "name": "stdout",
          "text": [
            "Concatenated array:\n",
            " [1 2 3 4 5 6]\n"
          ]
        }
      ]
    },
    {
      "cell_type": "code",
      "source": [
        "#Concatenate two 3x3 arrays along rows: a = [[1, 2, 3], [4, 5, 6], [7, 8, 9]] and b = [[10, 11, 12], [13, 14, 15], [16, 17, 18]].\n",
        "\n",
        "a = np.array([[1, 2, 3], [4, 5, 6], [7, 8, 9]])\n",
        "b = np.array([[10, 11, 12], [13, 14, 15], [16, 17, 18]])\n",
        "\n",
        "concatenated_array = np.vstack((a, b))\n",
        "\n",
        "print(\"Concatenated array along rows:\\n\", concatenated_array)"
      ],
      "metadata": {
        "colab": {
          "base_uri": "https://localhost:8080/"
        },
        "id": "1sK8ULIa-iMG",
        "outputId": "15918569-43f1-405d-a7ab-5364bbaacebf"
      },
      "execution_count": 103,
      "outputs": [
        {
          "output_type": "stream",
          "name": "stdout",
          "text": [
            "Concatenated array along rows:\n",
            " [[ 1  2  3]\n",
            " [ 4  5  6]\n",
            " [ 7  8  9]\n",
            " [10 11 12]\n",
            " [13 14 15]\n",
            " [16 17 18]]\n"
          ]
        }
      ]
    },
    {
      "cell_type": "code",
      "source": [
        "#Concatenate two 3x3 arrays along columns: a = [[1, 2, 3], [4, 5, 6], [7, 8, 9]] and b = [[10, 11, 12], [13, 14, 15], [16, 17, 18]].\n",
        "\n",
        "a = np.array([[1, 2, 3], [4, 5, 6], [7, 8, 9]])\n",
        "b = np.array([[10, 11, 12], [13, 14, 15], [16, 17, 18]])\n",
        "\n",
        "concatenated_array = np.hstack((a, b))\n",
        "\n",
        "print(\"Concatenated array along columns:\\n\", concatenated_array)"
      ],
      "metadata": {
        "colab": {
          "base_uri": "https://localhost:8080/"
        },
        "id": "a_zbX9oU-vt6",
        "outputId": "8883131a-b9db-4325-b07d-cdc98a93d341"
      },
      "execution_count": 104,
      "outputs": [
        {
          "output_type": "stream",
          "name": "stdout",
          "text": [
            "Concatenated array along columns:\n",
            " [[ 1  2  3 10 11 12]\n",
            " [ 4  5  6 13 14 15]\n",
            " [ 7  8  9 16 17 18]]\n"
          ]
        }
      ]
    }
  ]
}